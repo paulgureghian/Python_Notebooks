{
  "cells": [
    {
      "cell_type": "markdown",
      "metadata": {
        "id": "pU4s_hVSbSi1"
      },
      "source": [
        "In this project I will train an imgage classifier to recognize different species of flowers.\n",
        "\n",
        "I will be using the Oxford flowers dataset.\n",
        "\n",
        "Below are a few examples.\n",
        "\n",
        "\n",
        "<img  src='assets/Flowers.png' width=500px>\n",
        "\n",
        "The project is broken down into 3 steps:\n",
        "1. Load the image dataset and create a pipeline.\n",
        "2. Build and train an image classifier on the dataset.\n",
        "3. Use the model to make predictions on a test set.\n",
        "\n",
        "I will use Python and TensorFlow."
      ]
    },
    {
      "cell_type": "code",
      "execution_count": 1,
      "metadata": {
        "id": "OE7DeQchb4sq"
      },
      "outputs": [
        {
          "name": "stderr",
          "output_type": "stream",
          "text": [
            "2022-03-16 17:02:54.736683: W tensorflow/stream_executor/platform/default/dso_loader.cc:64] Could not load dynamic library 'libcudart.so.11.0'; dlerror: libcudart.so.11.0: cannot open shared object file: No such file or directory\n",
            "2022-03-16 17:02:54.736742: I tensorflow/stream_executor/cuda/cudart_stub.cc:29] Ignore above cudart dlerror if you do not have a GPU set up on your machine.\n"
          ]
        }
      ],
      "source": [
        "# Import TensorFlow.\n",
        "import tensorflow as tf\n",
        "import tensorflow_hub as hub \n",
        "import tensorflow_datasets as tfds"
      ]
    },
    {
      "cell_type": "code",
      "execution_count": 2,
      "metadata": {},
      "outputs": [],
      "source": [
        "# Other imports.\n",
        "import numpy as np\n",
        "import pandas as pd\n",
        "from PIL import Image\n",
        "import matplotlib as plt"
      ]
    },
    {
      "cell_type": "code",
      "execution_count": 3,
      "metadata": {},
      "outputs": [],
      "source": [
        "# Matplotlib settings.\n",
        "%matplotlib inline\n",
        "%config InlineBackend.figure_format = 'retina'\n",
        "tfds.disable_progress_bar() "
      ]
    },
    {
      "cell_type": "code",
      "execution_count": 4,
      "metadata": {},
      "outputs": [
        {
          "name": "stderr",
          "output_type": "stream",
          "text": [
            "2022-03-16 17:03:33.888751: W tensorflow/stream_executor/platform/default/dso_loader.cc:64] Could not load dynamic library 'libcuda.so.1'; dlerror: libcuda.so.1: cannot open shared object file: No such file or directory\n",
            "2022-03-16 17:03:33.888813: W tensorflow/stream_executor/cuda/cuda_driver.cc:269] failed call to cuInit: UNKNOWN ERROR (303)\n",
            "2022-03-16 17:03:33.888859: I tensorflow/stream_executor/cuda/cuda_diagnostics.cc:156] kernel driver does not appear to be running on this host (Fedora): /proc/driver/nvidia/version does not exist\n"
          ]
        },
        {
          "name": "stdout",
          "output_type": "stream",
          "text": [
            "{'train': <PrefetchDataset element_spec=(TensorSpec(shape=(None, None, 3), dtype=tf.uint8, name=None), TensorSpec(shape=(), dtype=tf.int64, name=None))>, 'test': <PrefetchDataset element_spec=(TensorSpec(shape=(None, None, 3), dtype=tf.uint8, name=None), TensorSpec(shape=(), dtype=tf.int64, name=None))>, 'validation': <PrefetchDataset element_spec=(TensorSpec(shape=(None, None, 3), dtype=tf.uint8, name=None), TensorSpec(shape=(), dtype=tf.int64, name=None))>}\n"
          ]
        }
      ],
      "source": [
        "# Load and split the dataset.\n",
        "oxford_flowers, info = tfds.load('oxford_flowers102', as_supervised=True, with_info=True)\n",
        "print(oxford_flowers)\n",
        "\n",
        "training, validation, test = oxford_flowers['train'], oxford_flowers['validation'], oxford_flowers['test']"
      ]
    },
    {
      "cell_type": "code",
      "execution_count": 5,
      "metadata": {},
      "outputs": [
        {
          "name": "stdout",
          "output_type": "stream",
          "text": [
            "Number of examples in training set: 1020\n",
            "Number of examples in validation set: 1020\n",
            "Number of examples in test set: 6149\n",
            "\n",
            "\n",
            "Dataset info: tfds.core.DatasetInfo(\n",
            "    name='oxford_flowers102',\n",
            "    full_name='oxford_flowers102/2.1.1',\n",
            "    description=\"\"\"\n",
            "    The Oxford Flowers 102 dataset is a consistent of 102 flower categories commonly occurring\n",
            "    in the United Kingdom. Each class consists of between 40 and 258 images. The images have\n",
            "    large scale, pose and light variations. In addition, there are categories that have large\n",
            "    variations within the category and several very similar categories.\n",
            "    \n",
            "    The dataset is divided into a training set, a validation set and a test set.\n",
            "    The training set and validation set each consist of 10 images per class (totalling 1020 images each).\n",
            "    The test set consists of the remaining 6149 images (minimum 20 per class).\n",
            "    \n",
            "    Note: The dataset by default comes with a test size larger than the train\n",
            "    size. For more info see this [issue](https://github.com/tensorflow/datasets/issues/3022).\n",
            "    \"\"\",\n",
            "    homepage='https://www.robots.ox.ac.uk/~vgg/data/flowers/102/',\n",
            "    data_path='~/tensorflow_datasets/oxford_flowers102/2.1.1',\n",
            "    download_size=328.90 MiB,\n",
            "    dataset_size=331.34 MiB,\n",
            "    features=FeaturesDict({\n",
            "        'file_name': Text(shape=(), dtype=tf.string),\n",
            "        'image': Image(shape=(None, None, 3), dtype=tf.uint8),\n",
            "        'label': ClassLabel(shape=(), dtype=tf.int64, num_classes=102),\n",
            "    }),\n",
            "    supervised_keys=('image', 'label'),\n",
            "    disable_shuffling=False,\n",
            "    splits={\n",
            "        'test': <SplitInfo num_examples=6149, num_shards=2>,\n",
            "        'train': <SplitInfo num_examples=1020, num_shards=1>,\n",
            "        'validation': <SplitInfo num_examples=1020, num_shards=1>,\n",
            "    },\n",
            "    citation=\"\"\"@InProceedings{Nilsback08,\n",
            "       author = \"Nilsback, M-E. and Zisserman, A.\",\n",
            "       title = \"Automated Flower Classification over a Large Number of Classes\",\n",
            "       booktitle = \"Proceedings of the Indian Conference on Computer Vision, Graphics and Image Processing\",\n",
            "       year = \"2008\",\n",
            "       month = \"Dec\"\n",
            "    }\"\"\",\n",
            ")\n",
            "\n",
            "\n",
            "Number of classes in dataset: 3\n",
            "\n",
            "\n"
          ]
        },
        {
          "data": {
            "text/plain": [
              "{'train': <PrefetchDataset element_spec=(TensorSpec(shape=(None, None, 3), dtype=tf.uint8, name=None), TensorSpec(shape=(), dtype=tf.int64, name=None))>,\n",
              " 'test': <PrefetchDataset element_spec=(TensorSpec(shape=(None, None, 3), dtype=tf.uint8, name=None), TensorSpec(shape=(), dtype=tf.int64, name=None))>,\n",
              " 'validation': <PrefetchDataset element_spec=(TensorSpec(shape=(None, None, 3), dtype=tf.uint8, name=None), TensorSpec(shape=(), dtype=tf.int64, name=None))>}"
            ]
          },
          "execution_count": 5,
          "metadata": {},
          "output_type": "execute_result"
        }
      ],
      "source": [
        "# Explore the dataset.\n",
        "\n",
        "# Print number of examples in each set.\n",
        "print(\"Number of examples in training set:\", len(training))\n",
        "print(\"Number of examples in validation set:\", len(validation))\n",
        "print(\"Number of examples in test set:\", len(test))\n",
        "print('\\n')\n",
        "\n",
        "# Print datasetinfo.\n",
        "print(\"Dataset info:\", info)\n",
        "print('\\n')\n",
        "\n",
        "# Print number of classes in dataset.\n",
        "print(\"Number of classes in dataset:\", len(oxford_flowers))\n",
        "print('\\n')\n",
        "\n",
        "# Display the dataset.\n",
        "oxford_flowers"
      ]
    },
    {
      "cell_type": "code",
      "execution_count": 6,
      "metadata": {},
      "outputs": [
        {
          "data": {
            "text/plain": [
              "<module 'tensorflow' from '/home/paul/.local/lib/python3.10/site-packages/tensorflow/__init__.py'>"
            ]
          },
          "execution_count": 6,
          "metadata": {},
          "output_type": "execute_result"
        }
      ],
      "source": [
        "# Print the shape and label of 3 training images.\n",
        "\n"
      ]
    }
  ],
  "metadata": {
    "colab": {
      "collapsed_sections": [],
      "name": "image_classifier.ipynb",
      "provenance": []
    },
    "kernelspec": {
      "display_name": "Python 3",
      "name": "python3"
    },
    "language_info": {
      "codemirror_mode": {
        "name": "ipython",
        "version": 3
      },
      "file_extension": ".py",
      "mimetype": "text/x-python",
      "name": "python",
      "nbconvert_exporter": "python",
      "pygments_lexer": "ipython3",
      "version": "3.10.2"
    }
  },
  "nbformat": 4,
  "nbformat_minor": 0
}
