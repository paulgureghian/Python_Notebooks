{
  "cells": [
    {
      "cell_type": "markdown",
      "metadata": {
        "id": "pU4s_hVSbSi1"
      },
      "source": [
        "<img  src='assets/Flowers.png' width=500px>"
      ]
    },
    {
      "cell_type": "code",
      "execution_count": 1,
      "metadata": {
        "id": "OE7DeQchb4sq"
      },
      "outputs": [],
      "source": [
        "import tensorflow as tf"
      ]
    }
  ],
  "metadata": {
    "colab": {
      "collapsed_sections": [],
      "name": "image_classifier.ipynb",
      "provenance": []
    },
    "kernelspec": {
      "display_name": "Python 3",
      "name": "python3"
    },
    "language_info": {
      "name": "python"
    }
  },
  "nbformat": 4,
  "nbformat_minor": 0
}
