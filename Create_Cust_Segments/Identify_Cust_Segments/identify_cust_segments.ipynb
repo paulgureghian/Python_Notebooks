{
  "cells": [
    {
      "cell_type": "markdown",
      "source": [
        "Created by Paul A. Gureghian in April 2022."
      ],
      "metadata": {
        "id": "BdtmONpmxUZJ"
      }
    },
    {
      "cell_type": "markdown",
      "metadata": {
        "id": "CdSbVD-FjYBP"
      },
      "source": [
        "# Project: Identify Customer Segments\n",
        "\n",
        "In this project, I will apply unsupervised learning techniques to identify segments of the population that form the core customer base for a mail-order sales company in Germany. These segments can then be used to direct marketing campaigns towards audiences that will have the highest expected rate of returns. The data that I will use has been provided by Bertelsmann Arvato Analytics, and represents real-life data.\n"
      ]
    },
    {
      "cell_type": "code",
      "execution_count": 1,
      "metadata": {
        "id": "o4DfGri-jYBb"
      },
      "outputs": [],
      "source": [
        "# Import libraries.\n",
        "import numpy as np\n",
        "import pandas as pd\n",
        "import seaborn as sns\n",
        "import matplotlib.pyplot as plt\n",
        "\n",
        "# Magic word for producing visualizations in notebook\n",
        "%matplotlib inline\n"
      ]
    },
    {
      "cell_type": "markdown",
      "metadata": {
        "id": "oDJuU13fjYBe"
      },
      "source": [
        "### Step 0: Load the Data\n",
        "\n",
        "There are four files associated with this project (not including this one):\n",
        "\n",
        "- `Udacity_AZDIAS_Subset.csv`: Demographics data for the general population of Germany; 891211 persons (rows) x 85 features (columns).\n",
        "- `Udacity_CUSTOMERS_Subset.csv`: Demographics data for customers of a mail-order company; 191652 persons (rows) x 85 features (columns).\n",
        "- `Data_Dictionary.md`: Detailed information file about the features in the provided datasets.\n",
        "- `AZDIAS_Feature_Summary.csv`: Summary of feature attributes for demographics data; 85 features (rows) x 4 columns\n",
        "\n",
        "Each row of the demographics files represents a single person, but also includes information outside of individuals, including information about their household, building, and neighborhood. I will use this information to cluster the general population into groups with similar demographic properties. Then, we will see how the people in the customers dataset fit into those created clusters. The hope here is that certain clusters are over-represented in the customers data, as compared to the general population; those over-represented clusters will be assumed to be part of the core userbase. This information can then be used for further applications, such as targeting for a marketing campaign.\n",
        "\n",
        "To start off with, I will load in the demographics data for the general population into a pandas DataFrame, and do the same for the feature attributes summary. Note for all of the `.csv` data files in this project: they're semicolon (`;`) delimited, so I'll need an additional argument in the [`read_csv()`](https://pandas.pydata.org/pandas-docs/stable/generated/pandas.read_csv.html) call to read in the data properly. Also, considering the size of the main dataset, it may take some time for it to load completely.\n",
        "\n",
        "Once the dataset is loaded, we will take a little bit of time just browsing the general structure of the dataset and feature summary file. I'll be getting deep into the innards of the cleaning in the first major step of the project, so gaining some general familiarity can help me get my bearings."
      ]
    },
    {
      "cell_type": "code",
      "source": [
        "# Mount Google drive\n",
        "from google.colab import drive\n",
        "drive.mount('/content/drive', force_remount=True)\n"
      ],
      "metadata": {
        "colab": {
          "base_uri": "https://localhost:8080/"
        },
        "id": "EMC9Wr_wzTtq",
        "outputId": "089977a6-b40f-48b5-9e07-4c7e50490246"
      },
      "execution_count": 2,
      "outputs": [
        {
          "output_type": "stream",
          "name": "stdout",
          "text": [
            "Mounted at /content/drive\n"
          ]
        }
      ]
    },
    {
      "cell_type": "code",
      "execution_count": 3,
      "metadata": {
        "id": "cvJ5u0fKjYBh"
      },
      "outputs": [],
      "source": [
        "# Load in the general demographics data.\n",
        "azdias = '/content/drive/MyDrive/udacity_azdias_subset.csv'\n",
        "azdias = pd.read_csv(azdias, sep=';')\n",
        "\n",
        "\n",
        "# Load in the feature summary file.\n",
        "feat_info = '/content/drive/MyDrive/azdias_feature_summary.csv'\n",
        "feat_info = pd.read_csv(feat_info, sep=';')\n"
      ]
    },
    {
      "cell_type": "code",
      "execution_count": null,
      "metadata": {
        "colab": {
          "base_uri": "https://localhost:8080/",
          "height": 300
        },
        "id": "16Kmes5pjYBi",
        "outputId": "2abaebb6-fae1-44bc-caed-5f19cc6a159c"
      },
      "outputs": [
        {
          "output_type": "execute_result",
          "data": {
            "text/plain": [
              "   AGER_TYP  ALTERSKATEGORIE_GROB  ANREDE_KZ  CJT_GESAMTTYP  \\\n",
              "0        -1                     2          1            2.0   \n",
              "1        -1                     1          2            5.0   \n",
              "2        -1                     3          2            3.0   \n",
              "3         2                     4          2            2.0   \n",
              "4        -1                     3          1            5.0   \n",
              "\n",
              "   FINANZ_MINIMALIST  FINANZ_SPARER  FINANZ_VORSORGER  FINANZ_ANLEGER  \\\n",
              "0                  3              4                 3               5   \n",
              "1                  1              5                 2               5   \n",
              "2                  1              4                 1               2   \n",
              "3                  4              2                 5               2   \n",
              "4                  4              3                 4               1   \n",
              "\n",
              "   FINANZ_UNAUFFAELLIGER  FINANZ_HAUSBAUER  ...  PLZ8_ANTG1  PLZ8_ANTG2  \\\n",
              "0                      5                 3  ...         NaN         NaN   \n",
              "1                      4                 5  ...         2.0         3.0   \n",
              "2                      3                 5  ...         3.0         3.0   \n",
              "3                      1                 2  ...         2.0         2.0   \n",
              "4                      3                 2  ...         2.0         4.0   \n",
              "\n",
              "   PLZ8_ANTG3  PLZ8_ANTG4  PLZ8_BAUMAX  PLZ8_HHZ  PLZ8_GBZ  ARBEIT  \\\n",
              "0         NaN         NaN          NaN       NaN       NaN     NaN   \n",
              "1         2.0         1.0          1.0       5.0       4.0     3.0   \n",
              "2         1.0         0.0          1.0       4.0       4.0     3.0   \n",
              "3         2.0         0.0          1.0       3.0       4.0     2.0   \n",
              "4         2.0         1.0          2.0       3.0       3.0     4.0   \n",
              "\n",
              "   ORTSGR_KLS9  RELAT_AB  \n",
              "0          NaN       NaN  \n",
              "1          5.0       4.0  \n",
              "2          5.0       2.0  \n",
              "3          3.0       3.0  \n",
              "4          6.0       5.0  \n",
              "\n",
              "[5 rows x 85 columns]"
            ],
            "text/html": [
              "\n",
              "  <div id=\"df-bd4f00c8-59eb-4167-a87d-3cc8c69af19b\">\n",
              "    <div class=\"colab-df-container\">\n",
              "      <div>\n",
              "<style scoped>\n",
              "    .dataframe tbody tr th:only-of-type {\n",
              "        vertical-align: middle;\n",
              "    }\n",
              "\n",
              "    .dataframe tbody tr th {\n",
              "        vertical-align: top;\n",
              "    }\n",
              "\n",
              "    .dataframe thead th {\n",
              "        text-align: right;\n",
              "    }\n",
              "</style>\n",
              "<table border=\"1\" class=\"dataframe\">\n",
              "  <thead>\n",
              "    <tr style=\"text-align: right;\">\n",
              "      <th></th>\n",
              "      <th>AGER_TYP</th>\n",
              "      <th>ALTERSKATEGORIE_GROB</th>\n",
              "      <th>ANREDE_KZ</th>\n",
              "      <th>CJT_GESAMTTYP</th>\n",
              "      <th>FINANZ_MINIMALIST</th>\n",
              "      <th>FINANZ_SPARER</th>\n",
              "      <th>FINANZ_VORSORGER</th>\n",
              "      <th>FINANZ_ANLEGER</th>\n",
              "      <th>FINANZ_UNAUFFAELLIGER</th>\n",
              "      <th>FINANZ_HAUSBAUER</th>\n",
              "      <th>...</th>\n",
              "      <th>PLZ8_ANTG1</th>\n",
              "      <th>PLZ8_ANTG2</th>\n",
              "      <th>PLZ8_ANTG3</th>\n",
              "      <th>PLZ8_ANTG4</th>\n",
              "      <th>PLZ8_BAUMAX</th>\n",
              "      <th>PLZ8_HHZ</th>\n",
              "      <th>PLZ8_GBZ</th>\n",
              "      <th>ARBEIT</th>\n",
              "      <th>ORTSGR_KLS9</th>\n",
              "      <th>RELAT_AB</th>\n",
              "    </tr>\n",
              "  </thead>\n",
              "  <tbody>\n",
              "    <tr>\n",
              "      <th>0</th>\n",
              "      <td>-1</td>\n",
              "      <td>2</td>\n",
              "      <td>1</td>\n",
              "      <td>2.0</td>\n",
              "      <td>3</td>\n",
              "      <td>4</td>\n",
              "      <td>3</td>\n",
              "      <td>5</td>\n",
              "      <td>5</td>\n",
              "      <td>3</td>\n",
              "      <td>...</td>\n",
              "      <td>NaN</td>\n",
              "      <td>NaN</td>\n",
              "      <td>NaN</td>\n",
              "      <td>NaN</td>\n",
              "      <td>NaN</td>\n",
              "      <td>NaN</td>\n",
              "      <td>NaN</td>\n",
              "      <td>NaN</td>\n",
              "      <td>NaN</td>\n",
              "      <td>NaN</td>\n",
              "    </tr>\n",
              "    <tr>\n",
              "      <th>1</th>\n",
              "      <td>-1</td>\n",
              "      <td>1</td>\n",
              "      <td>2</td>\n",
              "      <td>5.0</td>\n",
              "      <td>1</td>\n",
              "      <td>5</td>\n",
              "      <td>2</td>\n",
              "      <td>5</td>\n",
              "      <td>4</td>\n",
              "      <td>5</td>\n",
              "      <td>...</td>\n",
              "      <td>2.0</td>\n",
              "      <td>3.0</td>\n",
              "      <td>2.0</td>\n",
              "      <td>1.0</td>\n",
              "      <td>1.0</td>\n",
              "      <td>5.0</td>\n",
              "      <td>4.0</td>\n",
              "      <td>3.0</td>\n",
              "      <td>5.0</td>\n",
              "      <td>4.0</td>\n",
              "    </tr>\n",
              "    <tr>\n",
              "      <th>2</th>\n",
              "      <td>-1</td>\n",
              "      <td>3</td>\n",
              "      <td>2</td>\n",
              "      <td>3.0</td>\n",
              "      <td>1</td>\n",
              "      <td>4</td>\n",
              "      <td>1</td>\n",
              "      <td>2</td>\n",
              "      <td>3</td>\n",
              "      <td>5</td>\n",
              "      <td>...</td>\n",
              "      <td>3.0</td>\n",
              "      <td>3.0</td>\n",
              "      <td>1.0</td>\n",
              "      <td>0.0</td>\n",
              "      <td>1.0</td>\n",
              "      <td>4.0</td>\n",
              "      <td>4.0</td>\n",
              "      <td>3.0</td>\n",
              "      <td>5.0</td>\n",
              "      <td>2.0</td>\n",
              "    </tr>\n",
              "    <tr>\n",
              "      <th>3</th>\n",
              "      <td>2</td>\n",
              "      <td>4</td>\n",
              "      <td>2</td>\n",
              "      <td>2.0</td>\n",
              "      <td>4</td>\n",
              "      <td>2</td>\n",
              "      <td>5</td>\n",
              "      <td>2</td>\n",
              "      <td>1</td>\n",
              "      <td>2</td>\n",
              "      <td>...</td>\n",
              "      <td>2.0</td>\n",
              "      <td>2.0</td>\n",
              "      <td>2.0</td>\n",
              "      <td>0.0</td>\n",
              "      <td>1.0</td>\n",
              "      <td>3.0</td>\n",
              "      <td>4.0</td>\n",
              "      <td>2.0</td>\n",
              "      <td>3.0</td>\n",
              "      <td>3.0</td>\n",
              "    </tr>\n",
              "    <tr>\n",
              "      <th>4</th>\n",
              "      <td>-1</td>\n",
              "      <td>3</td>\n",
              "      <td>1</td>\n",
              "      <td>5.0</td>\n",
              "      <td>4</td>\n",
              "      <td>3</td>\n",
              "      <td>4</td>\n",
              "      <td>1</td>\n",
              "      <td>3</td>\n",
              "      <td>2</td>\n",
              "      <td>...</td>\n",
              "      <td>2.0</td>\n",
              "      <td>4.0</td>\n",
              "      <td>2.0</td>\n",
              "      <td>1.0</td>\n",
              "      <td>2.0</td>\n",
              "      <td>3.0</td>\n",
              "      <td>3.0</td>\n",
              "      <td>4.0</td>\n",
              "      <td>6.0</td>\n",
              "      <td>5.0</td>\n",
              "    </tr>\n",
              "  </tbody>\n",
              "</table>\n",
              "<p>5 rows × 85 columns</p>\n",
              "</div>\n",
              "      <button class=\"colab-df-convert\" onclick=\"convertToInteractive('df-bd4f00c8-59eb-4167-a87d-3cc8c69af19b')\"\n",
              "              title=\"Convert this dataframe to an interactive table.\"\n",
              "              style=\"display:none;\">\n",
              "        \n",
              "  <svg xmlns=\"http://www.w3.org/2000/svg\" height=\"24px\"viewBox=\"0 0 24 24\"\n",
              "       width=\"24px\">\n",
              "    <path d=\"M0 0h24v24H0V0z\" fill=\"none\"/>\n",
              "    <path d=\"M18.56 5.44l.94 2.06.94-2.06 2.06-.94-2.06-.94-.94-2.06-.94 2.06-2.06.94zm-11 1L8.5 8.5l.94-2.06 2.06-.94-2.06-.94L8.5 2.5l-.94 2.06-2.06.94zm10 10l.94 2.06.94-2.06 2.06-.94-2.06-.94-.94-2.06-.94 2.06-2.06.94z\"/><path d=\"M17.41 7.96l-1.37-1.37c-.4-.4-.92-.59-1.43-.59-.52 0-1.04.2-1.43.59L10.3 9.45l-7.72 7.72c-.78.78-.78 2.05 0 2.83L4 21.41c.39.39.9.59 1.41.59.51 0 1.02-.2 1.41-.59l7.78-7.78 2.81-2.81c.8-.78.8-2.07 0-2.86zM5.41 20L4 18.59l7.72-7.72 1.47 1.35L5.41 20z\"/>\n",
              "  </svg>\n",
              "      </button>\n",
              "      \n",
              "  <style>\n",
              "    .colab-df-container {\n",
              "      display:flex;\n",
              "      flex-wrap:wrap;\n",
              "      gap: 12px;\n",
              "    }\n",
              "\n",
              "    .colab-df-convert {\n",
              "      background-color: #E8F0FE;\n",
              "      border: none;\n",
              "      border-radius: 50%;\n",
              "      cursor: pointer;\n",
              "      display: none;\n",
              "      fill: #1967D2;\n",
              "      height: 32px;\n",
              "      padding: 0 0 0 0;\n",
              "      width: 32px;\n",
              "    }\n",
              "\n",
              "    .colab-df-convert:hover {\n",
              "      background-color: #E2EBFA;\n",
              "      box-shadow: 0px 1px 2px rgba(60, 64, 67, 0.3), 0px 1px 3px 1px rgba(60, 64, 67, 0.15);\n",
              "      fill: #174EA6;\n",
              "    }\n",
              "\n",
              "    [theme=dark] .colab-df-convert {\n",
              "      background-color: #3B4455;\n",
              "      fill: #D2E3FC;\n",
              "    }\n",
              "\n",
              "    [theme=dark] .colab-df-convert:hover {\n",
              "      background-color: #434B5C;\n",
              "      box-shadow: 0px 1px 3px 1px rgba(0, 0, 0, 0.15);\n",
              "      filter: drop-shadow(0px 1px 2px rgba(0, 0, 0, 0.3));\n",
              "      fill: #FFFFFF;\n",
              "    }\n",
              "  </style>\n",
              "\n",
              "      <script>\n",
              "        const buttonEl =\n",
              "          document.querySelector('#df-bd4f00c8-59eb-4167-a87d-3cc8c69af19b button.colab-df-convert');\n",
              "        buttonEl.style.display =\n",
              "          google.colab.kernel.accessAllowed ? 'block' : 'none';\n",
              "\n",
              "        async function convertToInteractive(key) {\n",
              "          const element = document.querySelector('#df-bd4f00c8-59eb-4167-a87d-3cc8c69af19b');\n",
              "          const dataTable =\n",
              "            await google.colab.kernel.invokeFunction('convertToInteractive',\n",
              "                                                     [key], {});\n",
              "          if (!dataTable) return;\n",
              "\n",
              "          const docLinkHtml = 'Like what you see? Visit the ' +\n",
              "            '<a target=\"_blank\" href=https://colab.research.google.com/notebooks/data_table.ipynb>data table notebook</a>'\n",
              "            + ' to learn more about interactive tables.';\n",
              "          element.innerHTML = '';\n",
              "          dataTable['output_type'] = 'display_data';\n",
              "          await google.colab.output.renderOutput(dataTable, element);\n",
              "          const docLink = document.createElement('div');\n",
              "          docLink.innerHTML = docLinkHtml;\n",
              "          element.appendChild(docLink);\n",
              "        }\n",
              "      </script>\n",
              "    </div>\n",
              "  </div>\n",
              "  "
            ]
          },
          "metadata": {},
          "execution_count": 20
        }
      ],
      "source": [
        "from numpy.ma.core import shape\n",
        "# Check the structure of the data.\n",
        "azdias.head()\n"
      ]
    },
    {
      "cell_type": "code",
      "source": [
        "# Print the shape.\n",
        "shape(azdias)\n"
      ],
      "metadata": {
        "colab": {
          "base_uri": "https://localhost:8080/"
        },
        "id": "yTiKNqOgN4dI",
        "outputId": "e26a4fb3-6232-40c8-9714-886934347a5b"
      },
      "execution_count": null,
      "outputs": [
        {
          "output_type": "execute_result",
          "data": {
            "text/plain": [
              "(85, 891221)"
            ]
          },
          "metadata": {},
          "execution_count": 22
        }
      ]
    },
    {
      "cell_type": "code",
      "source": [
        "# Check the strucure of the data.\n",
        "feat_info.head()\n"
      ],
      "metadata": {
        "colab": {
          "base_uri": "https://localhost:8080/",
          "height": 206
        },
        "id": "l1nHRclePnfC",
        "outputId": "4599fa0c-4164-45a1-9a6c-9bd30896e204"
      },
      "execution_count": null,
      "outputs": [
        {
          "output_type": "execute_result",
          "data": {
            "text/plain": [
              "              attribute information_level         type missing_or_unknown\n",
              "0              AGER_TYP            person  categorical             [-1,0]\n",
              "1  ALTERSKATEGORIE_GROB            person      ordinal           [-1,0,9]\n",
              "2             ANREDE_KZ            person  categorical             [-1,0]\n",
              "3         CJT_GESAMTTYP            person  categorical                [0]\n",
              "4     FINANZ_MINIMALIST            person      ordinal               [-1]"
            ],
            "text/html": [
              "\n",
              "  <div id=\"df-6d42c9a7-96a4-4f24-826c-8c41d4e40224\">\n",
              "    <div class=\"colab-df-container\">\n",
              "      <div>\n",
              "<style scoped>\n",
              "    .dataframe tbody tr th:only-of-type {\n",
              "        vertical-align: middle;\n",
              "    }\n",
              "\n",
              "    .dataframe tbody tr th {\n",
              "        vertical-align: top;\n",
              "    }\n",
              "\n",
              "    .dataframe thead th {\n",
              "        text-align: right;\n",
              "    }\n",
              "</style>\n",
              "<table border=\"1\" class=\"dataframe\">\n",
              "  <thead>\n",
              "    <tr style=\"text-align: right;\">\n",
              "      <th></th>\n",
              "      <th>attribute</th>\n",
              "      <th>information_level</th>\n",
              "      <th>type</th>\n",
              "      <th>missing_or_unknown</th>\n",
              "    </tr>\n",
              "  </thead>\n",
              "  <tbody>\n",
              "    <tr>\n",
              "      <th>0</th>\n",
              "      <td>AGER_TYP</td>\n",
              "      <td>person</td>\n",
              "      <td>categorical</td>\n",
              "      <td>[-1,0]</td>\n",
              "    </tr>\n",
              "    <tr>\n",
              "      <th>1</th>\n",
              "      <td>ALTERSKATEGORIE_GROB</td>\n",
              "      <td>person</td>\n",
              "      <td>ordinal</td>\n",
              "      <td>[-1,0,9]</td>\n",
              "    </tr>\n",
              "    <tr>\n",
              "      <th>2</th>\n",
              "      <td>ANREDE_KZ</td>\n",
              "      <td>person</td>\n",
              "      <td>categorical</td>\n",
              "      <td>[-1,0]</td>\n",
              "    </tr>\n",
              "    <tr>\n",
              "      <th>3</th>\n",
              "      <td>CJT_GESAMTTYP</td>\n",
              "      <td>person</td>\n",
              "      <td>categorical</td>\n",
              "      <td>[0]</td>\n",
              "    </tr>\n",
              "    <tr>\n",
              "      <th>4</th>\n",
              "      <td>FINANZ_MINIMALIST</td>\n",
              "      <td>person</td>\n",
              "      <td>ordinal</td>\n",
              "      <td>[-1]</td>\n",
              "    </tr>\n",
              "  </tbody>\n",
              "</table>\n",
              "</div>\n",
              "      <button class=\"colab-df-convert\" onclick=\"convertToInteractive('df-6d42c9a7-96a4-4f24-826c-8c41d4e40224')\"\n",
              "              title=\"Convert this dataframe to an interactive table.\"\n",
              "              style=\"display:none;\">\n",
              "        \n",
              "  <svg xmlns=\"http://www.w3.org/2000/svg\" height=\"24px\"viewBox=\"0 0 24 24\"\n",
              "       width=\"24px\">\n",
              "    <path d=\"M0 0h24v24H0V0z\" fill=\"none\"/>\n",
              "    <path d=\"M18.56 5.44l.94 2.06.94-2.06 2.06-.94-2.06-.94-.94-2.06-.94 2.06-2.06.94zm-11 1L8.5 8.5l.94-2.06 2.06-.94-2.06-.94L8.5 2.5l-.94 2.06-2.06.94zm10 10l.94 2.06.94-2.06 2.06-.94-2.06-.94-.94-2.06-.94 2.06-2.06.94z\"/><path d=\"M17.41 7.96l-1.37-1.37c-.4-.4-.92-.59-1.43-.59-.52 0-1.04.2-1.43.59L10.3 9.45l-7.72 7.72c-.78.78-.78 2.05 0 2.83L4 21.41c.39.39.9.59 1.41.59.51 0 1.02-.2 1.41-.59l7.78-7.78 2.81-2.81c.8-.78.8-2.07 0-2.86zM5.41 20L4 18.59l7.72-7.72 1.47 1.35L5.41 20z\"/>\n",
              "  </svg>\n",
              "      </button>\n",
              "      \n",
              "  <style>\n",
              "    .colab-df-container {\n",
              "      display:flex;\n",
              "      flex-wrap:wrap;\n",
              "      gap: 12px;\n",
              "    }\n",
              "\n",
              "    .colab-df-convert {\n",
              "      background-color: #E8F0FE;\n",
              "      border: none;\n",
              "      border-radius: 50%;\n",
              "      cursor: pointer;\n",
              "      display: none;\n",
              "      fill: #1967D2;\n",
              "      height: 32px;\n",
              "      padding: 0 0 0 0;\n",
              "      width: 32px;\n",
              "    }\n",
              "\n",
              "    .colab-df-convert:hover {\n",
              "      background-color: #E2EBFA;\n",
              "      box-shadow: 0px 1px 2px rgba(60, 64, 67, 0.3), 0px 1px 3px 1px rgba(60, 64, 67, 0.15);\n",
              "      fill: #174EA6;\n",
              "    }\n",
              "\n",
              "    [theme=dark] .colab-df-convert {\n",
              "      background-color: #3B4455;\n",
              "      fill: #D2E3FC;\n",
              "    }\n",
              "\n",
              "    [theme=dark] .colab-df-convert:hover {\n",
              "      background-color: #434B5C;\n",
              "      box-shadow: 0px 1px 3px 1px rgba(0, 0, 0, 0.15);\n",
              "      filter: drop-shadow(0px 1px 2px rgba(0, 0, 0, 0.3));\n",
              "      fill: #FFFFFF;\n",
              "    }\n",
              "  </style>\n",
              "\n",
              "      <script>\n",
              "        const buttonEl =\n",
              "          document.querySelector('#df-6d42c9a7-96a4-4f24-826c-8c41d4e40224 button.colab-df-convert');\n",
              "        buttonEl.style.display =\n",
              "          google.colab.kernel.accessAllowed ? 'block' : 'none';\n",
              "\n",
              "        async function convertToInteractive(key) {\n",
              "          const element = document.querySelector('#df-6d42c9a7-96a4-4f24-826c-8c41d4e40224');\n",
              "          const dataTable =\n",
              "            await google.colab.kernel.invokeFunction('convertToInteractive',\n",
              "                                                     [key], {});\n",
              "          if (!dataTable) return;\n",
              "\n",
              "          const docLinkHtml = 'Like what you see? Visit the ' +\n",
              "            '<a target=\"_blank\" href=https://colab.research.google.com/notebooks/data_table.ipynb>data table notebook</a>'\n",
              "            + ' to learn more about interactive tables.';\n",
              "          element.innerHTML = '';\n",
              "          dataTable['output_type'] = 'display_data';\n",
              "          await google.colab.output.renderOutput(dataTable, element);\n",
              "          const docLink = document.createElement('div');\n",
              "          docLink.innerHTML = docLinkHtml;\n",
              "          element.appendChild(docLink);\n",
              "        }\n",
              "      </script>\n",
              "    </div>\n",
              "  </div>\n",
              "  "
            ]
          },
          "metadata": {},
          "execution_count": 23
        }
      ]
    },
    {
      "cell_type": "code",
      "source": [
        "# Print the shape.\n",
        "shape(feat_info)\n"
      ],
      "metadata": {
        "colab": {
          "base_uri": "https://localhost:8080/"
        },
        "id": "teQVPBoVP-xX",
        "outputId": "61a6933f-1fea-43c8-8cf8-2418744b6a21"
      },
      "execution_count": null,
      "outputs": [
        {
          "output_type": "execute_result",
          "data": {
            "text/plain": [
              "(4, 85)"
            ]
          },
          "metadata": {},
          "execution_count": 25
        }
      ]
    },
    {
      "cell_type": "markdown",
      "metadata": {
        "id": "4ecVkHizjYBj"
      },
      "source": [
        "## Step 1: Preprocessing\n",
        "\n",
        "### Step 1.1: Assess Missing Data\n",
        "\n",
        "The feature summary file contains a summary of properties for each demographics data column. I will use this file to help me make cleaning decisions during this stage of the project. First of all, I will assess the demographics data in terms of missing data. I will pay attention to the following points as I perform my analysis, and take notes on what I observe. \n",
        "\n",
        "#### Step 1.1.1: Convert Missing Value Codes to NaNs\n",
        "The fourth column of the feature attributes summary (loaded in above as `feat_info`) documents the codes from the data dictionary that indicate missing or unknown data. While the file encodes this as a list (e.g. `[-1,0]`), this will get read in as a string object. I'll need to do a little bit of parsing to make use of it to identify and clean the data. I will convert data that matches a 'missing' or 'unknown' value code into a numpy NaN value. I will want to see how much data takes on a 'missing' or 'unknown' code, and how much data is naturally missing, as a point of interest.\n"
      ]
    },
    {
      "cell_type": "code",
      "execution_count": null,
      "metadata": {
        "id": "5-q8qhn6jYBk"
      },
      "outputs": [],
      "source": [
        "# Identify missing or unknown data values and convert them to NaNs.\n",
        "\n"
      ]
    },
    {
      "cell_type": "markdown",
      "metadata": {
        "id": "6Zyv8jdEjYBm"
      },
      "source": [
        "#### Step 1.1.2: Assess Missing Data in Each Column\n",
        "\n",
        "How much missing data is present in each column? There are a few columns that are outliers in terms of the proportion of values that are missing. You will want to use matplotlib's [`hist()`](https://matplotlib.org/api/_as_gen/matplotlib.pyplot.hist.html) function to visualize the distribution of missing value counts to find these columns. Identify and document these columns. While some of these columns might have justifications for keeping or re-encoding the data, for this project you should just remove them from the dataframe. (Feel free to make remarks about these outlier columns in the discussion, however!)\n",
        "\n",
        "For the remaining features, are there any patterns in which columns have, or share, missing data?"
      ]
    },
    {
      "cell_type": "code",
      "execution_count": null,
      "metadata": {
        "id": "GcX_xLz8jYBn"
      },
      "outputs": [],
      "source": [
        "# Perform an assessment of how much missing data there is in each column of the\n",
        "# dataset.\n",
        "\n"
      ]
    },
    {
      "cell_type": "code",
      "execution_count": null,
      "metadata": {
        "id": "NrhbOSYFjYBp"
      },
      "outputs": [],
      "source": [
        "# Investigate patterns in the amount of missing data in each column.\n",
        "\n"
      ]
    },
    {
      "cell_type": "code",
      "execution_count": null,
      "metadata": {
        "id": "Thz9uGUgjYBq"
      },
      "outputs": [],
      "source": [
        "# Remove the outlier columns from the dataset. (You'll perform other data\n",
        "# engineering tasks such as re-encoding and imputation later.)\n",
        "\n"
      ]
    },
    {
      "cell_type": "markdown",
      "metadata": {
        "id": "xuWOFDrRjYBr"
      },
      "source": [
        "#### Discussion 1.1.2: Assess Missing Data in Each Column\n",
        "\n",
        "(Double click this cell and replace this text with your own text, reporting your observations regarding the amount of missing data in each column. Are there any patterns in missing values? Which columns were removed from the dataset?)"
      ]
    },
    {
      "cell_type": "markdown",
      "metadata": {
        "id": "r0iAFvdWjYBr"
      },
      "source": [
        "#### Step 1.1.3: Assess Missing Data in Each Row\n",
        "\n",
        "Now, you'll perform a similar assessment for the rows of the dataset. How much data is missing in each row? As with the columns, you should see some groups of points that have a very different numbers of missing values. Divide the data into two subsets: one for data points that are above some threshold for missing values, and a second subset for points below that threshold.\n",
        "\n",
        "In order to know what to do with the outlier rows, we should see if the distribution of data values on columns that are not missing data (or are missing very little data) are similar or different between the two groups. Select at least five of these columns and compare the distribution of values.\n",
        "- You can use seaborn's [`countplot()`](https://seaborn.pydata.org/generated/seaborn.countplot.html) function to create a bar chart of code frequencies and matplotlib's [`subplot()`](https://matplotlib.org/api/_as_gen/matplotlib.pyplot.subplot.html) function to put bar charts for the two subplots side by side.\n",
        "- To reduce repeated code, you might want to write a function that can perform this comparison, taking as one of its arguments a column to be compared.\n",
        "\n",
        "Depending on what you observe in your comparison, this will have implications on how you approach your conclusions later in the analysis. If the distributions of non-missing features look similar between the data with many missing values and the data with few or no missing values, then we could argue that simply dropping those points from the analysis won't present a major issue. On the other hand, if the data with many missing values looks very different from the data with few or no missing values, then we should make a note on those data as special. We'll revisit these data later on. **Either way, you should continue your analysis for now using just the subset of the data with few or no missing values.**"
      ]
    },
    {
      "cell_type": "code",
      "execution_count": null,
      "metadata": {
        "id": "J86iEeHHjYBs"
      },
      "outputs": [],
      "source": [
        "# How much data is missing in each row of the dataset?\n",
        "\n"
      ]
    },
    {
      "cell_type": "code",
      "execution_count": null,
      "metadata": {
        "id": "S8kNq3E9jYBt"
      },
      "outputs": [],
      "source": [
        "# Write code to divide the data into two subsets based on the number of missing\n",
        "# values in each row.\n",
        "\n"
      ]
    },
    {
      "cell_type": "code",
      "execution_count": null,
      "metadata": {
        "id": "-VeRnn6AjYBt"
      },
      "outputs": [],
      "source": [
        "# Compare the distribution of values for at least five columns where there are\n",
        "# no or few missing values, between the two subsets.\n",
        "\n"
      ]
    },
    {
      "cell_type": "markdown",
      "metadata": {
        "id": "l0CY_SASjYBu"
      },
      "source": [
        "#### Discussion 1.1.3: Assess Missing Data in Each Row\n",
        "\n",
        "(Double-click this cell and replace this text with your own text, reporting your observations regarding missing data in rows. Are the data with lots of missing values are qualitatively different from data with few or no missing values?)"
      ]
    },
    {
      "cell_type": "markdown",
      "metadata": {
        "id": "kMbsZa4BjYBv"
      },
      "source": [
        "### Step 1.2: Select and Re-Encode Features\n",
        "\n",
        "Checking for missing data isn't the only way in which you can prepare a dataset for analysis. Since the unsupervised learning techniques to be used will only work on data that is encoded numerically, you need to make a few encoding changes or additional assumptions to be able to make progress. In addition, while almost all of the values in the dataset are encoded using numbers, not all of them represent numeric values. Check the third column of the feature summary (`feat_info`) for a summary of types of measurement.\n",
        "- For numeric and interval data, these features can be kept without changes.\n",
        "- Most of the variables in the dataset are ordinal in nature. While ordinal values may technically be non-linear in spacing, make the simplifying assumption that the ordinal variables can be treated as being interval in nature (that is, kept without any changes).\n",
        "- Special handling may be necessary for the remaining two variable types: categorical, and 'mixed'.\n",
        "\n",
        "In the first two parts of this sub-step, you will perform an investigation of the categorical and mixed-type features and make a decision on each of them, whether you will keep, drop, or re-encode each. Then, in the last part, you will create a new data frame with only the selected and engineered columns.\n",
        "\n",
        "Data wrangling is often the trickiest part of the data analysis process, and there's a lot of it to be done here. But stick with it: once you're done with this step, you'll be ready to get to the machine learning parts of the project!"
      ]
    },
    {
      "cell_type": "code",
      "execution_count": null,
      "metadata": {
        "id": "qijd6W2DjYBv"
      },
      "outputs": [],
      "source": [
        "# How many features are there of each data type?\n",
        "\n"
      ]
    },
    {
      "cell_type": "markdown",
      "metadata": {
        "id": "qgamOeE3jYBw"
      },
      "source": [
        "#### Step 1.2.1: Re-Encode Categorical Features\n",
        "\n",
        "For categorical data, you would ordinarily need to encode the levels as dummy variables. Depending on the number of categories, perform one of the following:\n",
        "- For binary (two-level) categoricals that take numeric values, you can keep them without needing to do anything.\n",
        "- There is one binary variable that takes on non-numeric values. For this one, you need to re-encode the values as numbers or create a dummy variable.\n",
        "- For multi-level categoricals (three or more values), you can choose to encode the values using multiple dummy variables (e.g. via [OneHotEncoder](http://scikit-learn.org/stable/modules/generated/sklearn.preprocessing.OneHotEncoder.html)), or (to keep things straightforward) just drop them from the analysis. As always, document your choices in the Discussion section."
      ]
    },
    {
      "cell_type": "code",
      "execution_count": null,
      "metadata": {
        "id": "lApDU3YijYBw"
      },
      "outputs": [],
      "source": [
        "# Assess categorical variables: which are binary, which are multi-level, and\n",
        "# which one needs to be re-encoded?\n",
        "\n"
      ]
    },
    {
      "cell_type": "code",
      "execution_count": null,
      "metadata": {
        "id": "waARFC0djYBx"
      },
      "outputs": [],
      "source": [
        "# Re-encode categorical variable(s) to be kept in the analysis.\n",
        "\n"
      ]
    },
    {
      "cell_type": "markdown",
      "metadata": {
        "id": "U5McWhKkjYBx"
      },
      "source": [
        "#### Discussion 1.2.1: Re-Encode Categorical Features\n",
        "\n",
        "(Double-click this cell and replace this text with your own text, reporting your findings and decisions regarding categorical features. Which ones did you keep, which did you drop, and what engineering steps did you perform?)"
      ]
    },
    {
      "cell_type": "markdown",
      "metadata": {
        "id": "7QQLdPUWjYBy"
      },
      "source": [
        "#### Step 1.2.2: Engineer Mixed-Type Features\n",
        "\n",
        "There are a handful of features that are marked as \"mixed\" in the feature summary that require special treatment in order to be included in the analysis. There are two in particular that deserve attention; the handling of the rest are up to your own choices:\n",
        "- \"PRAEGENDE_JUGENDJAHRE\" combines information on three dimensions: generation by decade, movement (mainstream vs. avantgarde), and nation (east vs. west). While there aren't enough levels to disentangle east from west, you should create two new variables to capture the other two dimensions: an interval-type variable for decade, and a binary variable for movement.\n",
        "- \"CAMEO_INTL_2015\" combines information on two axes: wealth and life stage. Break up the two-digit codes by their 'tens'-place and 'ones'-place digits into two new ordinal variables (which, for the purposes of this project, is equivalent to just treating them as their raw numeric values).\n",
        "- If you decide to keep or engineer new features around the other mixed-type features, make sure you note your steps in the Discussion section.\n",
        "\n",
        "Be sure to check `Data_Dictionary.md` for the details needed to finish these tasks."
      ]
    },
    {
      "cell_type": "code",
      "execution_count": null,
      "metadata": {
        "id": "aEayW2D9jYBy"
      },
      "outputs": [],
      "source": [
        "# Investigate \"PRAEGENDE_JUGENDJAHRE\" and engineer two new variables.\n",
        "\n"
      ]
    },
    {
      "cell_type": "code",
      "execution_count": null,
      "metadata": {
        "id": "CN3qAegijYBy"
      },
      "outputs": [],
      "source": [
        "# Investigate \"CAMEO_INTL_2015\" and engineer two new variables.\n",
        "\n"
      ]
    },
    {
      "cell_type": "markdown",
      "metadata": {
        "id": "jPILQnSVjYBz"
      },
      "source": [
        "#### Discussion 1.2.2: Engineer Mixed-Type Features\n",
        "\n",
        "(Double-click this cell and replace this text with your own text, reporting your findings and decisions regarding mixed-value features. Which ones did you keep, which did you drop, and what engineering steps did you perform?)"
      ]
    },
    {
      "cell_type": "markdown",
      "metadata": {
        "id": "PVD6eyFPjYBz"
      },
      "source": [
        "#### Step 1.2.3: Complete Feature Selection\n",
        "\n",
        "In order to finish this step up, you need to make sure that your data frame now only has the columns that you want to keep. To summarize, the dataframe should consist of the following:\n",
        "- All numeric, interval, and ordinal type columns from the original dataset.\n",
        "- Binary categorical features (all numerically-encoded).\n",
        "- Engineered features from other multi-level categorical features and mixed features.\n",
        "\n",
        "Make sure that for any new columns that you have engineered, that you've excluded the original columns from the final dataset. Otherwise, their values will interfere with the analysis later on the project. For example, you should not keep \"PRAEGENDE_JUGENDJAHRE\", since its values won't be useful for the algorithm: only the values derived from it in the engineered features you created should be retained. As a reminder, your data should only be from **the subset with few or no missing values**."
      ]
    },
    {
      "cell_type": "code",
      "execution_count": null,
      "metadata": {
        "id": "T8RUebdEjYBz"
      },
      "outputs": [],
      "source": [
        "# If there are other re-engineering tasks you need to perform, make sure you\n",
        "# take care of them here. (Dealing with missing data will come in step 2.1.)\n",
        "\n"
      ]
    },
    {
      "cell_type": "code",
      "execution_count": null,
      "metadata": {
        "id": "EY0tk4YWjYB0"
      },
      "outputs": [],
      "source": [
        "# Do whatever you need to in order to ensure that the dataframe only contains\n",
        "# the columns that should be passed to the algorithm functions.\n",
        "\n"
      ]
    },
    {
      "cell_type": "markdown",
      "metadata": {
        "id": "cfSCZwY0jYB1"
      },
      "source": [
        "### Step 1.3: Create a Cleaning Function\n",
        "\n",
        "Even though you've finished cleaning up the general population demographics data, it's important to look ahead to the future and realize that you'll need to perform the same cleaning steps on the customer demographics data. In this substep, complete the function below to execute the main feature selection, encoding, and re-engineering steps you performed above. Then, when it comes to looking at the customer data in Step 3, you can just run this function on that DataFrame to get the trimmed dataset in a single step."
      ]
    },
    {
      "cell_type": "code",
      "execution_count": null,
      "metadata": {
        "id": "RKN9jSOMjYB1"
      },
      "outputs": [],
      "source": [
        "def clean_data(df):\n",
        "    \"\"\"\n",
        "    Perform feature trimming, re-encoding, and engineering for demographics\n",
        "    data\n",
        "    \n",
        "    INPUT: Demographics DataFrame\n",
        "    OUTPUT: Trimmed and cleaned demographics DataFrame\n",
        "    \"\"\"\n",
        "    \n",
        "    # Put in code here to execute all main cleaning steps:\n",
        "    # convert missing value codes into NaNs, ...\n",
        "    \n",
        "    \n",
        "    # remove selected columns and rows, ...\n",
        "\n",
        "    \n",
        "    # select, re-encode, and engineer column values.\n",
        "\n",
        "    \n",
        "    # Return the cleaned dataframe.\n",
        "    \n",
        "    "
      ]
    },
    {
      "cell_type": "markdown",
      "metadata": {
        "id": "cMh9cOaujYB2"
      },
      "source": [
        "## Step 2: Feature Transformation\n",
        "\n",
        "### Step 2.1: Apply Feature Scaling\n",
        "\n",
        "Before we apply dimensionality reduction techniques to the data, we need to perform feature scaling so that the principal component vectors are not influenced by the natural differences in scale for features. Starting from this part of the project, you'll want to keep an eye on the [API reference page for sklearn](http://scikit-learn.org/stable/modules/classes.html) to help you navigate to all of the classes and functions that you'll need. In this substep, you'll need to check the following:\n",
        "\n",
        "- sklearn requires that data not have missing values in order for its estimators to work properly. So, before applying the scaler to your data, make sure that you've cleaned the DataFrame of the remaining missing values. This can be as simple as just removing all data points with missing data, or applying an [Imputer](https://scikit-learn.org/0.16/modules/generated/sklearn.preprocessing.Imputer.html) to replace all missing values. You might also try a more complicated procedure where you temporarily remove missing values in order to compute the scaling parameters before re-introducing those missing values and applying imputation. Think about how much missing data you have and what possible effects each approach might have on your analysis, and justify your decision in the discussion section below.\n",
        "- For the actual scaling function, a [StandardScaler](http://scikit-learn.org/stable/modules/generated/sklearn.preprocessing.StandardScaler.html) instance is suggested, scaling each feature to mean 0 and standard deviation 1.\n",
        "- For these classes, you can make use of the `.fit_transform()` method to both fit a procedure to the data as well as apply the transformation to the data at the same time. Don't forget to keep the fit sklearn objects handy, since you'll be applying them to the customer demographics data towards the end of the project."
      ]
    },
    {
      "cell_type": "code",
      "execution_count": null,
      "metadata": {
        "id": "BYpvj8dDjYB3"
      },
      "outputs": [],
      "source": [
        "# If you've not yet cleaned the dataset of all NaN values, then investigate and\n",
        "# do that now.\n",
        "\n"
      ]
    },
    {
      "cell_type": "code",
      "execution_count": null,
      "metadata": {
        "id": "av3E-VPejYB3"
      },
      "outputs": [],
      "source": [
        "# Apply feature scaling to the general population demographics data.\n",
        "\n"
      ]
    },
    {
      "cell_type": "markdown",
      "metadata": {
        "id": "KCxUA6GRjYB4"
      },
      "source": [
        "### Discussion 2.1: Apply Feature Scaling\n",
        "\n",
        "(Double-click this cell and replace this text with your own text, reporting your decisions regarding feature scaling.)"
      ]
    },
    {
      "cell_type": "markdown",
      "metadata": {
        "id": "axyqNupXjYB5"
      },
      "source": [
        "### Step 2.2: Perform Dimensionality Reduction\n",
        "\n",
        "On your scaled data, you are now ready to apply dimensionality reduction techniques.\n",
        "\n",
        "- Use sklearn's [PCA](http://scikit-learn.org/stable/modules/generated/sklearn.decomposition.PCA.html) class to apply principal component analysis on the data, thus finding the vectors of maximal variance in the data. To start, you should not set any parameters (so all components are computed) or set a number of components that is at least half the number of features (so there's enough features to see the general trend in variability).\n",
        "- Check out the ratio of variance explained by each principal component as well as the cumulative variance explained. Try plotting the cumulative or sequential values using matplotlib's [`plot()`](https://matplotlib.org/api/_as_gen/matplotlib.pyplot.plot.html) function. Based on what you find, select a value for the number of transformed features you'll retain for the clustering part of the project.\n",
        "- Once you've made a choice for the number of components to keep, make sure you re-fit a PCA instance to perform the decided-on transformation."
      ]
    },
    {
      "cell_type": "code",
      "execution_count": null,
      "metadata": {
        "id": "7sYXAWM-jYB6"
      },
      "outputs": [],
      "source": [
        "# Apply PCA to the data.\n",
        "\n"
      ]
    },
    {
      "cell_type": "code",
      "execution_count": null,
      "metadata": {
        "id": "GRMRYeKjjYB6"
      },
      "outputs": [],
      "source": [
        "# Investigate the variance accounted for by each principal component.\n",
        "\n"
      ]
    },
    {
      "cell_type": "code",
      "execution_count": null,
      "metadata": {
        "id": "mmjgD7d4jYB6"
      },
      "outputs": [],
      "source": [
        "# Re-apply PCA to the data while selecting for number of components to retain.\n",
        "\n"
      ]
    },
    {
      "cell_type": "markdown",
      "metadata": {
        "id": "pWCwO1jIjYB7"
      },
      "source": [
        "### Discussion 2.2: Perform Dimensionality Reduction\n",
        "\n",
        "(Double-click this cell and replace this text with your own text, reporting your findings and decisions regarding dimensionality reduction. How many principal components / transformed features are you retaining for the next step of the analysis?)"
      ]
    },
    {
      "cell_type": "markdown",
      "metadata": {
        "id": "xvFTE78ZjYB7"
      },
      "source": [
        "### Step 2.3: Interpret Principal Components\n",
        "\n",
        "Now that we have our transformed principal components, it's a nice idea to check out the weight of each variable on the first few components to see if they can be interpreted in some fashion.\n",
        "\n",
        "As a reminder, each principal component is a unit vector that points in the direction of highest variance (after accounting for the variance captured by earlier principal components). The further a weight is from zero, the more the principal component is in the direction of the corresponding feature. If two features have large weights of the same sign (both positive or both negative), then increases in one tend expect to be associated with increases in the other. To contrast, features with different signs can be expected to show a negative correlation: increases in one variable should result in a decrease in the other.\n",
        "\n",
        "- To investigate the features, you should map each weight to their corresponding feature name, then sort the features according to weight. The most interesting features for each principal component, then, will be those at the beginning and end of the sorted list. Use the data dictionary document to help you understand these most prominent features, their relationships, and what a positive or negative value on the principal component might indicate.\n",
        "- You should investigate and interpret feature associations from the first three principal components in this substep. To help facilitate this, you should write a function that you can call at any time to print the sorted list of feature weights, for the *i*-th principal component. This might come in handy in the next step of the project, when you interpret the tendencies of the discovered clusters."
      ]
    },
    {
      "cell_type": "code",
      "execution_count": null,
      "metadata": {
        "id": "i8LRBuKmjYB7"
      },
      "outputs": [],
      "source": [
        "# Map weights for the first principal component to corresponding feature names\n",
        "# and then print the linked values, sorted by weight.\n",
        "# HINT: Try defining a function here or in a new cell that you can reuse in the\n",
        "# other cells.\n",
        "\n"
      ]
    },
    {
      "cell_type": "code",
      "execution_count": null,
      "metadata": {
        "id": "-2o6A8K_jYB8"
      },
      "outputs": [],
      "source": [
        "# Map weights for the second principal component to corresponding feature names\n",
        "# and then print the linked values, sorted by weight.\n",
        "\n"
      ]
    },
    {
      "cell_type": "code",
      "execution_count": null,
      "metadata": {
        "id": "hKg8h1oZjYB8"
      },
      "outputs": [],
      "source": [
        "# Map weights for the third principal component to corresponding feature names\n",
        "# and then print the linked values, sorted by weight.\n",
        "\n"
      ]
    },
    {
      "cell_type": "markdown",
      "metadata": {
        "id": "HYUiWPvpjYB8"
      },
      "source": [
        "### Discussion 2.3: Interpret Principal Components\n",
        "\n",
        "(Double-click this cell and replace this text with your own text, reporting your observations from detailed investigation of the first few principal components generated. Can we interpret positive and negative values from them in a meaningful way?)"
      ]
    },
    {
      "cell_type": "markdown",
      "metadata": {
        "id": "TtYPbBNTjYB9"
      },
      "source": [
        "## Step 3: Clustering\n",
        "\n",
        "### Step 3.1: Apply Clustering to General Population\n",
        "\n",
        "You've assessed and cleaned the demographics data, then scaled and transformed them. Now, it's time to see how the data clusters in the principal components space. In this substep, you will apply k-means clustering to the dataset and use the average within-cluster distances from each point to their assigned cluster's centroid to decide on a number of clusters to keep.\n",
        "\n",
        "- Use sklearn's [KMeans](http://scikit-learn.org/stable/modules/generated/sklearn.cluster.KMeans.html#sklearn.cluster.KMeans) class to perform k-means clustering on the PCA-transformed data.\n",
        "- Then, compute the average difference from each point to its assigned cluster's center. **Hint**: The KMeans object's `.score()` method might be useful here, but note that in sklearn, scores tend to be defined so that larger is better. Try applying it to a small, toy dataset, or use an internet search to help your understanding.\n",
        "- Perform the above two steps for a number of different cluster counts. You can then see how the average distance decreases with an increasing number of clusters. However, each additional cluster provides a smaller net benefit. Use this fact to select a final number of clusters in which to group the data. **Warning**: because of the large size of the dataset, it can take a long time for the algorithm to resolve. The more clusters to fit, the longer the algorithm will take. You should test for cluster counts through at least 10 clusters to get the full picture, but you shouldn't need to test for a number of clusters above about 30.\n",
        "- Once you've selected a final number of clusters to use, re-fit a KMeans instance to perform the clustering operation. Make sure that you also obtain the cluster assignments for the general demographics data, since you'll be using them in the final Step 3.3."
      ]
    },
    {
      "cell_type": "code",
      "execution_count": null,
      "metadata": {
        "id": "3aeNd3eZjYB9"
      },
      "outputs": [],
      "source": [
        "# Over a number of different cluster counts...\n",
        "\n",
        "\n",
        "    # run k-means clustering on the data and...\n",
        "    \n",
        "    \n",
        "    # compute the average within-cluster distances.\n",
        "    \n",
        "    "
      ]
    },
    {
      "cell_type": "code",
      "execution_count": null,
      "metadata": {
        "id": "U7xuMvTMjYB9"
      },
      "outputs": [],
      "source": [
        "# Investigate the change in within-cluster distance across number of clusters.\n",
        "# HINT: Use matplotlib's plot function to visualize this relationship.\n",
        "\n"
      ]
    },
    {
      "cell_type": "code",
      "execution_count": null,
      "metadata": {
        "id": "FS-Kgad8jYB9"
      },
      "outputs": [],
      "source": [
        "# Re-fit the k-means model with the selected number of clusters and obtain\n",
        "# cluster predictions for the general population demographics data.\n",
        "\n"
      ]
    },
    {
      "cell_type": "markdown",
      "metadata": {
        "id": "AwzqMfkpjYB-"
      },
      "source": [
        "### Discussion 3.1: Apply Clustering to General Population\n",
        "\n",
        "(Double-click this cell and replace this text with your own text, reporting your findings and decisions regarding clustering. Into how many clusters have you decided to segment the population?)"
      ]
    },
    {
      "cell_type": "markdown",
      "metadata": {
        "id": "sWiVGP5HjYB-"
      },
      "source": [
        "### Step 3.2: Apply All Steps to the Customer Data\n",
        "\n",
        "Now that you have clusters and cluster centers for the general population, it's time to see how the customer data maps on to those clusters. Take care to not confuse this for re-fitting all of the models to the customer data. Instead, you're going to use the fits from the general population to clean, transform, and cluster the customer data. In the last step of the project, you will interpret how the general population fits apply to the customer data.\n",
        "\n",
        "- Don't forget when loading in the customers data, that it is semicolon (`;`) delimited.\n",
        "- Apply the same feature wrangling, selection, and engineering steps to the customer demographics using the `clean_data()` function you created earlier. (You can assume that the customer demographics data has similar meaning behind missing data patterns as the general demographics data.)\n",
        "- Use the sklearn objects from the general demographics data, and apply their transformations to the customers data. That is, you should not be using a `.fit()` or `.fit_transform()` method to re-fit the old objects, nor should you be creating new sklearn objects! Carry the data through the feature scaling, PCA, and clustering steps, obtaining cluster assignments for all of the data in the customer demographics data."
      ]
    },
    {
      "cell_type": "code",
      "execution_count": null,
      "metadata": {
        "id": "biOEXlpQjYB-"
      },
      "outputs": [],
      "source": [
        "# Load in the customer demographics data.\n",
        "customers = "
      ]
    },
    {
      "cell_type": "code",
      "execution_count": null,
      "metadata": {
        "id": "KXiGhvIcjYB-"
      },
      "outputs": [],
      "source": [
        "# Apply preprocessing, feature transformation, and clustering from the general\n",
        "# demographics onto the customer data, obtaining cluster predictions for the\n",
        "# customer demographics data.\n",
        "\n"
      ]
    },
    {
      "cell_type": "markdown",
      "metadata": {
        "id": "shTREvw2jYB_"
      },
      "source": [
        "### Step 3.3: Compare Customer Data to Demographics Data\n",
        "\n",
        "At this point, you have clustered data based on demographics of the general population of Germany, and seen how the customer data for a mail-order sales company maps onto those demographic clusters. In this final substep, you will compare the two cluster distributions to see where the strongest customer base for the company is.\n",
        "\n",
        "Consider the proportion of persons in each cluster for the general population, and the proportions for the customers. If we think the company's customer base to be universal, then the cluster assignment proportions should be fairly similar between the two. If there are only particular segments of the population that are interested in the company's products, then we should see a mismatch from one to the other. If there is a higher proportion of persons in a cluster for the customer data compared to the general population (e.g. 5% of persons are assigned to a cluster for the general population, but 15% of the customer data is closest to that cluster's centroid) then that suggests the people in that cluster to be a target audience for the company. On the other hand, the proportion of the data in a cluster being larger in the general population than the customer data (e.g. only 2% of customers closest to a population centroid that captures 6% of the data) suggests that group of persons to be outside of the target demographics.\n",
        "\n",
        "Take a look at the following points in this step:\n",
        "\n",
        "- Compute the proportion of data points in each cluster for the general population and the customer data. Visualizations will be useful here: both for the individual dataset proportions, but also to visualize the ratios in cluster representation between groups. Seaborn's [`countplot()`](https://seaborn.pydata.org/generated/seaborn.countplot.html) or [`barplot()`](https://seaborn.pydata.org/generated/seaborn.barplot.html) function could be handy.\n",
        "  - Recall the analysis you performed in step 1.1.3 of the project, where you separated out certain data points from the dataset if they had more than a specified threshold of missing values. If you found that this group was qualitatively different from the main bulk of the data, you should treat this as an additional data cluster in this analysis. Make sure that you account for the number of data points in this subset, for both the general population and customer datasets, when making your computations!\n",
        "- Which cluster or clusters are overrepresented in the customer dataset compared to the general population? Select at least one such cluster and infer what kind of people might be represented by that cluster. Use the principal component interpretations from step 2.3 or look at additional components to help you make this inference. Alternatively, you can use the `.inverse_transform()` method of the PCA and StandardScaler objects to transform centroids back to the original data space and interpret the retrieved values directly.\n",
        "- Perform a similar investigation for the underrepresented clusters. Which cluster or clusters are underrepresented in the customer dataset compared to the general population, and what kinds of people are typified by these clusters?"
      ]
    },
    {
      "cell_type": "code",
      "execution_count": null,
      "metadata": {
        "id": "3y9EQTnojYB_"
      },
      "outputs": [],
      "source": [
        "# Compare the proportion of data in each cluster for the customer data to the\n",
        "# proportion of data in each cluster for the general population.\n",
        "\n"
      ]
    },
    {
      "cell_type": "code",
      "execution_count": null,
      "metadata": {
        "id": "DGg88z7XjYB_"
      },
      "outputs": [],
      "source": [
        "# What kinds of people are part of a cluster that is overrepresented in the\n",
        "# customer data compared to the general population?\n",
        "\n"
      ]
    },
    {
      "cell_type": "code",
      "execution_count": null,
      "metadata": {
        "id": "ECPj6qV6jYB_"
      },
      "outputs": [],
      "source": [
        "# What kinds of people are part of a cluster that is underrepresented in the\n",
        "# customer data compared to the general population?\n",
        "\n"
      ]
    },
    {
      "cell_type": "markdown",
      "metadata": {
        "id": "xV7fQS-ijYCA"
      },
      "source": [
        "### Discussion 3.3: Compare Customer Data to Demographics Data\n",
        "\n",
        "(Double-click this cell and replace this text with your own text, reporting findings and conclusions from the clustering analysis. Can we describe segments of the population that are relatively popular with the mail-order company, or relatively unpopular with the company?)"
      ]
    },
    {
      "cell_type": "markdown",
      "metadata": {
        "id": "L3WpMR0qjYCA"
      },
      "source": [
        "> Congratulations on making it this far in the project! Before you finish, make sure to check through the entire notebook from top to bottom to make sure that your analysis follows a logical flow and all of your findings are documented in **Discussion** cells. Once you've checked over all of your work, you should export the notebook as an HTML document to submit for evaluation. You can do this from the menu, navigating to **File -> Download as -> HTML (.html)**. You will submit both that document and this notebook for your project submission."
      ]
    },
    {
      "cell_type": "code",
      "execution_count": null,
      "metadata": {
        "id": "ckWEOv1cjYCA"
      },
      "outputs": [],
      "source": [
        ""
      ]
    }
  ],
  "metadata": {
    "kernelspec": {
      "display_name": "Python 3",
      "language": "python",
      "name": "python3"
    },
    "language_info": {
      "codemirror_mode": {
        "name": "ipython",
        "version": 3
      },
      "file_extension": ".py",
      "mimetype": "text/x-python",
      "name": "python",
      "nbconvert_exporter": "python",
      "pygments_lexer": "ipython3",
      "version": "3.6.3"
    },
    "colab": {
      "name": "identify_cust_segments.ipynb",
      "provenance": []
    }
  },
  "nbformat": 4,
  "nbformat_minor": 0
}